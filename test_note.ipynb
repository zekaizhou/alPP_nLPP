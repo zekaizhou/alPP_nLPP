{
 "cells": [
  {
   "cell_type": "code",
   "execution_count": 1,
   "metadata": {},
   "outputs": [],
   "source": [
    "import numpy as np\n",
    "import matplotlib as plt\n",
    "import pandas as pd"
   ]
  },
  {
   "cell_type": "code",
   "execution_count": 2,
   "metadata": {},
   "outputs": [],
   "source": [
    "dataset=pd.read_csv('F:/pd_speech_features.csv',index_col=0,delimiter=',',skiprows=1)\n"
   ]
  },
  {
   "cell_type": "code",
   "execution_count": 3,
   "metadata": {},
   "outputs": [],
   "source": [
    "dataset = dataset.loc[:,~dataset.columns.duplicated()]\n",
    "dataset=dataset.sample(frac=1).reset_index(drop=True)"
   ]
  },
  {
   "cell_type": "code",
   "execution_count": 4,
   "metadata": {},
   "outputs": [
    {
     "data": {
      "text/plain": [
       "gender                       0\n",
       "PPE                          0\n",
       "DFA                          0\n",
       "RPDE                         0\n",
       "numPulses                    0\n",
       "                            ..\n",
       "tqwt_kurtosisValue_dec_33    0\n",
       "tqwt_kurtosisValue_dec_34    0\n",
       "tqwt_kurtosisValue_dec_35    0\n",
       "tqwt_kurtosisValue_dec_36    0\n",
       "class                        0\n",
       "Length: 754, dtype: int64"
      ]
     },
     "execution_count": 4,
     "metadata": {},
     "output_type": "execute_result"
    }
   ],
   "source": [
    "dataset.isnull().sum()"
   ]
  },
  {
   "cell_type": "code",
   "execution_count": 5,
   "metadata": {},
   "outputs": [
    {
     "name": "stdout",
     "output_type": "stream",
     "text": [
      "<class 'pandas.core.frame.DataFrame'>\n",
      "RangeIndex: 756 entries, 0 to 755\n",
      "Columns: 754 entries, gender to class\n",
      "dtypes: float64(749), int64(5)\n",
      "memory usage: 4.3 MB\n"
     ]
    }
   ],
   "source": [
    "dataset.info()"
   ]
  },
  {
   "cell_type": "code",
   "execution_count": 6,
   "metadata": {},
   "outputs": [],
   "source": [
    "X= dataset.loc[:, dataset.columns !='class'].values[:,1:] \n",
    "Y= dataset.loc[:,'class'].values"
   ]
  },
  {
   "cell_type": "code",
   "execution_count": 7,
   "metadata": {},
   "outputs": [
    {
     "name": "stdout",
     "output_type": "stream",
     "text": [
      "[[ 0.80997  0.68753  0.55747 ... 10.4754  22.2614  84.1618 ]\n",
      " [ 0.78083  0.67297  0.45019 ... 30.3987  36.6252  80.1918 ]\n",
      " [ 0.80264  0.68852  0.48725 ... 56.4913  47.2246  93.1124 ]\n",
      " ...\n",
      " [ 0.3086   0.64823  0.62249 ...  4.4022   3.5217  15.3447 ]\n",
      " [ 0.81698  0.8063   0.48759 ...  4.6041   6.3828  52.202  ]\n",
      " [ 0.74423  0.75192  0.70634 ...  3.6762   2.9449   5.2495 ]]\n"
     ]
    }
   ],
   "source": [
    "print(X)"
   ]
  },
  {
   "cell_type": "code",
   "execution_count": 8,
   "metadata": {},
   "outputs": [],
   "source": [
    "\n",
    "from sklearn.model_selection import train_test_split\n",
    "X_train,X_test,Y_train,Y_test=train_test_split(X,Y,test_size=0.55,random_state=42)"
   ]
  },
  {
   "cell_type": "code",
   "execution_count": 9,
   "metadata": {},
   "outputs": [],
   "source": [
    "from sklearn.neighbors import KNeighborsClassifier\n",
    "classifier = KNeighborsClassifier(n_neighbors=1)\n",
    "X_train=np.array(X_train,dtype=np.float64)\n",
    "X_test=np.array(X_test,dtype=np.float64)"
   ]
  },
  {
   "cell_type": "code",
   "execution_count": 22,
   "metadata": {},
   "outputs": [],
   "source": [
    "from sklearn import svm\n",
    "classifier=svm.SVC(kernel='linear')\n",
    "X_train=np.array(X_train,dtype=np.float64)\n",
    "X_test=np.array(X_test,dtype=np.float64)"
   ]
  },
  {
   "cell_type": "code",
   "execution_count": 10,
   "metadata": {},
   "outputs": [
    {
     "name": "stdout",
     "output_type": "stream",
     "text": [
      "1\n",
      "2\n",
      "3\n",
      "4\n",
      "5\n",
      "6\n",
      "7\n",
      "8\n",
      "9\n",
      "10\n",
      "11\n",
      "12\n",
      "13\n",
      "14\n",
      "15\n",
      "16\n",
      "17\n",
      "18\n",
      "19\n",
      "20\n",
      "j:  0\n"
     ]
    }
   ],
   "source": [
    "from LR_LPP import LR_LPP\n",
    "Data_train_ndim, eig_vec=LR_LPP(X_train,n_dims=100)"
   ]
  },
  {
   "cell_type": "code",
   "execution_count": 70,
   "metadata": {},
   "outputs": [],
   "source": [
    "from LRE import LRE\n",
    "Data_train_ndim, eig_vec=LRE(X_train.T,n_dims=100)"
   ]
  },
  {
   "cell_type": "code",
   "execution_count": 10,
   "metadata": {},
   "outputs": [
    {
     "ename": "ModuleNotFoundError",
     "evalue": "No module named 'LPP'",
     "output_type": "error",
     "traceback": [
      "\u001b[1;31m---------------------------------------------------------------------------\u001b[0m",
      "\u001b[1;31mModuleNotFoundError\u001b[0m                       Traceback (most recent call last)",
      "Cell \u001b[1;32mIn [10], line 1\u001b[0m\n\u001b[1;32m----> 1\u001b[0m \u001b[38;5;28;01mfrom\u001b[39;00m \u001b[38;5;21;01mLPP\u001b[39;00m \u001b[38;5;28;01mimport\u001b[39;00m lpp\n\u001b[0;32m      2\u001b[0m \u001b[38;5;28;01mdef\u001b[39;00m \u001b[38;5;21mcal_pairwise_dist\u001b[39m(x):\n\u001b[0;32m      3\u001b[0m     \u001b[38;5;124;03m'''计算pairwise 距离, x是matrix\u001b[39;00m\n\u001b[0;32m      4\u001b[0m \u001b[38;5;124;03m    (a-b)^2 = a^2 + b^2 - 2*a*b\u001b[39;00m\n\u001b[0;32m      5\u001b[0m \u001b[38;5;124;03m    '''\u001b[39;00m\n",
      "\u001b[1;31mModuleNotFoundError\u001b[0m: No module named 'LPP'"
     ]
    }
   ],
   "source": [
    "\n",
    "from LPP import lpp\n",
    "def cal_pairwise_dist(x):\n",
    "    '''计算pairwise 距离, x是matrix\n",
    "    (a-b)^2 = a^2 + b^2 - 2*a*b\n",
    "    '''\n",
    "    sum_x = np.sum(np.square(x), 1)\n",
    "    dist = np.add(np.add(-2 * np.dot(x, x.T), sum_x).T, sum_x)\n",
    "    #返回任意两个点之间距离的平方\n",
    "    return dist\n",
    "dist = cal_pairwise_dist(X_train.T)\n",
    "max_dist = np.max(dist)\n",
    "Data_train_ndim, eig_vec = lpp(X_train,\n",
    "                                   n_dims=100,\n",
    "                                   n_neighbors=5,\n",
    "                                   t=0.05 * max_dist)\n",
    "# Data_train_ndim, eig_vec = PCA_L1(X_train.T,out_n=100)"
   ]
  },
  {
   "cell_type": "code",
   "execution_count": 10,
   "metadata": {},
   "outputs": [],
   "source": [
    "from nlpp_n import nlpp_n\n",
    "Data_train_ndim, eig_vec = nlpp_n(X_train,lam=0.001,n_dims=100,n_neighbors=5,maxN=20,beta=1.5)\n"
   ]
  },
  {
   "cell_type": "code",
   "execution_count": 17,
   "metadata": {},
   "outputs": [
    {
     "ename": "KeyboardInterrupt",
     "evalue": "",
     "output_type": "error",
     "traceback": [
      "\u001b[1;31m---------------------------------------------------------------------------\u001b[0m",
      "\u001b[1;31mKeyboardInterrupt\u001b[0m                         Traceback (most recent call last)",
      "Cell \u001b[1;32mIn [17], line 4\u001b[0m\n\u001b[0;32m      1\u001b[0m \u001b[38;5;28;01mfrom\u001b[39;00m \u001b[38;5;21;01mnLPP\u001b[39;00m \u001b[38;5;28;01mimport\u001b[39;00m nlpp\n\u001b[1;32m----> 4\u001b[0m Data_train_ndim,eig_vec\u001b[38;5;241m=\u001b[39m\u001b[43mnlpp\u001b[49m\u001b[43m(\u001b[49m\u001b[43mX_train\u001b[49m\u001b[43m,\u001b[49m\u001b[43mlam\u001b[49m\u001b[38;5;241;43m=\u001b[39;49m\u001b[38;5;241;43m0.001\u001b[39;49m\u001b[43m,\u001b[49m\u001b[43mn_dims\u001b[49m\u001b[38;5;241;43m=\u001b[39;49m\u001b[38;5;241;43m100\u001b[39;49m\u001b[43m,\u001b[49m\u001b[43mn_neighbors\u001b[49m\u001b[38;5;241;43m=\u001b[39;49m\u001b[38;5;241;43m5\u001b[39;49m\u001b[43m,\u001b[49m\u001b[43mmaxN\u001b[49m\u001b[38;5;241;43m=\u001b[39;49m\u001b[38;5;241;43m40\u001b[39;49m\u001b[43m,\u001b[49m\u001b[43mbeta\u001b[49m\u001b[38;5;241;43m=\u001b[39;49m\u001b[38;5;241;43m1.5\u001b[39;49m\u001b[43m)\u001b[49m\n",
      "File \u001b[1;32me:\\VSCODE\\vscode_py\\code\\alpp_nlpp\\nLPP.py:192\u001b[0m, in \u001b[0;36mnlpp\u001b[1;34m(data, lam, n_dims, n_neighbors, maxN, beta)\u001b[0m\n\u001b[0;32m    189\u001b[0m W_t \u001b[39m=\u001b[39m (W, )\n\u001b[0;32m    191\u001b[0m \u001b[39mwhile\u001b[39;00m \u001b[39mTrue\u001b[39;00m:  \u001b[39m#交替更新,直到收敛\u001b[39;00m\n\u001b[1;32m--> 192\u001b[0m     W_n, data_ndim, eig_vec \u001b[39m=\u001b[39m Update_P(data, D, O_W, n_dims)\n\u001b[0;32m    193\u001b[0m     Wi \u001b[39m=\u001b[39m (W_n, )\n\u001b[0;32m    194\u001b[0m     W_t \u001b[39m=\u001b[39m W_t \u001b[39m+\u001b[39m Wi\n",
      "File \u001b[1;32me:\\VSCODE\\vscode_py\\code\\alpp_nlpp\\nLPP.py:111\u001b[0m, in \u001b[0;36mUpdate_P\u001b[1;34m(data, D, O_W, n_dims)\u001b[0m\n\u001b[0;32m    108\u001b[0m XDXT \u001b[39m=\u001b[39m np\u001b[39m.\u001b[39mdot(np\u001b[39m.\u001b[39mdot(data\u001b[39m.\u001b[39mT, D_n), data)\n\u001b[0;32m    109\u001b[0m XLXT \u001b[39m=\u001b[39m np\u001b[39m.\u001b[39mdot(np\u001b[39m.\u001b[39mdot(data\u001b[39m.\u001b[39mT, L), data)\n\u001b[1;32m--> 111\u001b[0m eig_val, eig_vec \u001b[39m=\u001b[39m np\u001b[39m.\u001b[39mlinalg\u001b[39m.\u001b[39meig(np\u001b[39m.\u001b[39mdot(np\u001b[39m.\u001b[39;49mlinalg\u001b[39m.\u001b[39;49mpinv(XDXT), XLXT))\n\u001b[0;32m    113\u001b[0m sort_index_ \u001b[39m=\u001b[39m np\u001b[39m.\u001b[39margsort(np\u001b[39m.\u001b[39mabs(eig_val))\n\u001b[0;32m    114\u001b[0m eig_val \u001b[39m=\u001b[39m eig_val[sort_index_]\n",
      "File \u001b[1;32m<__array_function__ internals>:5\u001b[0m, in \u001b[0;36mpinv\u001b[1;34m(*args, **kwargs)\u001b[0m\n",
      "File \u001b[1;32md:\\Python\\Python39\\lib\\site-packages\\numpy\\linalg\\linalg.py:2002\u001b[0m, in \u001b[0;36mpinv\u001b[1;34m(a, rcond, hermitian)\u001b[0m\n\u001b[0;32m   2000\u001b[0m     \u001b[39mreturn\u001b[39;00m wrap(res)\n\u001b[0;32m   2001\u001b[0m a \u001b[39m=\u001b[39m a\u001b[39m.\u001b[39mconjugate()\n\u001b[1;32m-> 2002\u001b[0m u, s, vt \u001b[39m=\u001b[39m svd(a, full_matrices\u001b[39m=\u001b[39;49m\u001b[39mFalse\u001b[39;49;00m, hermitian\u001b[39m=\u001b[39;49mhermitian)\n\u001b[0;32m   2004\u001b[0m \u001b[39m# discard small singular values\u001b[39;00m\n\u001b[0;32m   2005\u001b[0m cutoff \u001b[39m=\u001b[39m rcond[\u001b[39m.\u001b[39m\u001b[39m.\u001b[39m\u001b[39m.\u001b[39m, newaxis] \u001b[39m*\u001b[39m amax(s, axis\u001b[39m=\u001b[39m\u001b[39m-\u001b[39m\u001b[39m1\u001b[39m, keepdims\u001b[39m=\u001b[39m\u001b[39mTrue\u001b[39;00m)\n",
      "File \u001b[1;32m<__array_function__ internals>:5\u001b[0m, in \u001b[0;36msvd\u001b[1;34m(*args, **kwargs)\u001b[0m\n",
      "File \u001b[1;32md:\\Python\\Python39\\lib\\site-packages\\numpy\\linalg\\linalg.py:1660\u001b[0m, in \u001b[0;36msvd\u001b[1;34m(a, full_matrices, compute_uv, hermitian)\u001b[0m\n\u001b[0;32m   1657\u001b[0m         gufunc \u001b[39m=\u001b[39m _umath_linalg\u001b[39m.\u001b[39msvd_n_s\n\u001b[0;32m   1659\u001b[0m signature \u001b[39m=\u001b[39m \u001b[39m'\u001b[39m\u001b[39mD->DdD\u001b[39m\u001b[39m'\u001b[39m \u001b[39mif\u001b[39;00m isComplexType(t) \u001b[39melse\u001b[39;00m \u001b[39m'\u001b[39m\u001b[39md->ddd\u001b[39m\u001b[39m'\u001b[39m\n\u001b[1;32m-> 1660\u001b[0m u, s, vh \u001b[39m=\u001b[39m gufunc(a, signature\u001b[39m=\u001b[39;49msignature, extobj\u001b[39m=\u001b[39;49mextobj)\n\u001b[0;32m   1661\u001b[0m u \u001b[39m=\u001b[39m u\u001b[39m.\u001b[39mastype(result_t, copy\u001b[39m=\u001b[39m\u001b[39mFalse\u001b[39;00m)\n\u001b[0;32m   1662\u001b[0m s \u001b[39m=\u001b[39m s\u001b[39m.\u001b[39mastype(_realType(result_t), copy\u001b[39m=\u001b[39m\u001b[39mFalse\u001b[39;00m)\n",
      "\u001b[1;31mKeyboardInterrupt\u001b[0m: "
     ]
    }
   ],
   "source": [
    "from nLPP import nlpp\n",
    "\n",
    "\n",
    "Data_train_ndim,eig_vec=nlpp(X_train,lam=0.001,n_dims=100,n_neighbors=5,maxN=40,beta=1.5)"
   ]
  },
  {
   "cell_type": "code",
   "execution_count": 10,
   "metadata": {},
   "outputs": [],
   "source": [
    "from aLPP import alpp\n",
    "\n",
    "Data_train_ndim,eig_vec=alpp(X_train,lam=0.002,n_dims=100,n_neighbors=5)"
   ]
  },
  {
   "cell_type": "code",
   "execution_count": 549,
   "metadata": {},
   "outputs": [],
   "source": [
    "from PCA import pca\n",
    "\n",
    "Data_train_ndim,eig_vec=pca(X_train,100)\n",
    "X_test=X_test-np.mean(X_test, keepdims=True)"
   ]
  },
  {
   "cell_type": "code",
   "execution_count": 11,
   "metadata": {},
   "outputs": [],
   "source": [
    "classifier.fit(Data_train_ndim,Y_train)\n",
    "Data_test=np.dot(X_test,eig_vec)\n",
    "Y_pred=classifier.predict(Data_test)"
   ]
  },
  {
   "cell_type": "code",
   "execution_count": 12,
   "metadata": {},
   "outputs": [
    {
     "name": "stdout",
     "output_type": "stream",
     "text": [
      "[[ 39  61]\n",
      " [ 66 250]]\n"
     ]
    },
    {
     "data": {
      "text/plain": [
       "0.6947115384615384"
      ]
     },
     "execution_count": 12,
     "metadata": {},
     "output_type": "execute_result"
    }
   ],
   "source": [
    "from sklearn.metrics import confusion_matrix, accuracy_score\n",
    "cm_KN = confusion_matrix(Y_pred  , Y_test)\n",
    "print(cm_KN)\n",
    "accuracy_score(Y_pred,Y_test)"
   ]
  }
 ],
 "metadata": {
  "kernelspec": {
   "display_name": "Python 3.9.0 64-bit (system)",
   "language": "python",
   "name": "python3"
  },
  "language_info": {
   "codemirror_mode": {
    "name": "ipython",
    "version": 3
   },
   "file_extension": ".py",
   "mimetype": "text/x-python",
   "name": "python",
   "nbconvert_exporter": "python",
   "pygments_lexer": "ipython3",
   "version": "3.9.0"
  },
  "orig_nbformat": 4,
  "vscode": {
   "interpreter": {
    "hash": "1eb71e714c2a1bbfc91d3a1ed02399b846367c62fca82a5b3a9325d7b60709de"
   }
  }
 },
 "nbformat": 4,
 "nbformat_minor": 2
}
